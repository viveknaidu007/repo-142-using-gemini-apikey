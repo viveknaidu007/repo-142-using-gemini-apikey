{
 "cells": [
  {
   "cell_type": "code",
   "execution_count": null,
   "metadata": {},
   "outputs": [],
   "source": [
    "!pip install google-generativeai\n"
   ]
  },
  {
   "cell_type": "code",
   "execution_count": 1,
   "metadata": {},
   "outputs": [
    {
     "name": "stderr",
     "output_type": "stream",
     "text": [
      "c:\\Users\\poppo\\Anaconda3\\envs\\video\\lib\\site-packages\\tqdm\\auto.py:21: TqdmWarning: IProgress not found. Please update jupyter and ipywidgets. See https://ipywidgets.readthedocs.io/en/stable/user_install.html\n",
      "  from .autonotebook import tqdm as notebook_tqdm\n"
     ]
    }
   ],
   "source": [
    "import google.generativeai as genai\n"
   ]
  },
  {
   "cell_type": "code",
   "execution_count": 2,
   "metadata": {},
   "outputs": [],
   "source": [
    "# Replace 'YOUR_API_KEY' with your actual key\n",
    "genai.configure(api_key='')"
   ]
  },
  {
   "cell_type": "code",
   "execution_count": 3,
   "metadata": {},
   "outputs": [
    {
     "name": "stdout",
     "output_type": "stream",
     "text": [
      "<generator object list_models at 0x000001DFEACA60A0>\n"
     ]
    }
   ],
   "source": [
    "models = genai.list_models()\n",
    "print(models)\n"
   ]
  },
  {
   "cell_type": "code",
   "execution_count": 5,
   "metadata": {},
   "outputs": [
    {
     "name": "stdout",
     "output_type": "stream",
     "text": [
      "**Feline Enigma**\n",
      "\n",
      "Oh, enigmatic creature, with eyes of jade,\n",
      "A Sphinx veiled in mystery, a feline masquerade.\n",
      "Your soft fur, a tapestry of midnight's hue,\n",
      "Conceals a mind that puzzles, me and you.\n",
      "\n",
      "You stalk the shadows with a silent tread,\n",
      "Your senses keen, your every step a thread.\n",
      "A solitary hunter, fierce and bold,\n",
      "Your prey trembles at the tales they've been told.\n",
      "\n",
      "Your meows and purrs, a symphony of sound,\n",
      "A language of your own, profound and profound.\n",
      "You weave your spell with gentle paws and purrs,\n",
      "A master of hearts, a healer of all hurts.\n",
      "\n",
      "But beneath the sweetness lies a hidden spark,\n",
      "A fire that dances in the dark.\n",
      "Your independence, a beacon strong and clear,\n",
      "You're your own master, defying all fear.\n",
      "\n",
      "Oh, cat enigma, creature of grace,\n",
      "Your secrets whisper through time and space.\n",
      "May we forever marvel at your ways,\n",
      "As you dance across our hearts with enigmatic rays.\n"
     ]
    }
   ],
   "source": [
    "# Choose a model (e.g., 'gemini-pro' for Gemini Pro)\n",
    "model = genai.GenerativeModel('gemini-pro')\n",
    "\n",
    "# Provide your query text\n",
    "query = \"Write a poem about a cat.\"\n",
    "\n",
    "# Generate the response\n",
    "response = model.generate_content(query)\n",
    "print(response.text)\n"
   ]
  },
  {
   "cell_type": "code",
   "execution_count": null,
   "metadata": {},
   "outputs": [],
   "source": [
    "# Choose a model (e.g., 'gemini-pro' for Gemini Pro)\n",
    "model = genai.GenerativeModel('gemini-pro')\n",
    "\n",
    "# Provide your query text\n",
    "query = \"find key moments\"\n",
    "\n",
    "query2 = \"\"\"Python lists are an essential data structure used to store multiple items in a single variable. They are ordered, changeable, and can contain duplicate values. To create a list, we simply enclose our items in square brackets and separate them by commas. We can access individual items in the list using their index, which starts at zero. For example, to access the first item in the list, we would use zero index. We can also do negative indexing, which starts from minus one, then minus two, and goes on. Negative indexing basically means to start from the end and go towards the start of the list.\n",
    "Now let's talk about some built-in methods for lists in Python. To determine how many items a list has, we can use the len method, which will return the length of the list. We can add an item to the end of the list with the append method. We can also insert an item at the specified index with the insert method. To remove a specified item from the list, we can use the remove method. To remove an item from a specified index, we can use the pop method with the index, which, if not specified, will remove the last item in the list. The sort method sorts the list alphanumerically in ascending order. We can also reverse the order by specifying reverse=True in the method. We can also join two lists by simply using the plus operator. We can loop through a list by using the for loop\"\"\"\n",
    "\n",
    "\n",
    "# Generate the response\n",
    "response = model.generate_content(query)\n",
    "print(response.text)\n"
   ]
  },
  {
   "cell_type": "code",
   "execution_count": null,
   "metadata": {},
   "outputs": [],
   "source": []
  },
  {
   "cell_type": "code",
   "execution_count": null,
   "metadata": {},
   "outputs": [],
   "source": []
  },
  {
   "cell_type": "code",
   "execution_count": null,
   "metadata": {},
   "outputs": [],
   "source": []
  }
 ],
 "metadata": {
  "kernelspec": {
   "display_name": "video",
   "language": "python",
   "name": "python3"
  },
  "language_info": {
   "codemirror_mode": {
    "name": "ipython",
    "version": 3
   },
   "file_extension": ".py",
   "mimetype": "text/x-python",
   "name": "python",
   "nbconvert_exporter": "python",
   "pygments_lexer": "ipython3",
   "version": "3.10.14"
  }
 },
 "nbformat": 4,
 "nbformat_minor": 2
}
